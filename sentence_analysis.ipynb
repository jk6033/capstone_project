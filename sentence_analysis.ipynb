{
 "cells": [
  {
   "cell_type": "code",
   "execution_count": 1,
   "metadata": {},
   "outputs": [],
   "source": [
    "import json"
   ]
  },
  {
   "cell_type": "code",
   "execution_count": 2,
   "metadata": {},
   "outputs": [],
   "source": [
    "def load_data(PATH):\n",
    "        \n",
    "    print(\"Getting data length from \" + PATH)\n",
    "    with open(PATH) as f:\n",
    "        json_file = json.load(f)\n",
    "        \n",
    "    answer = json_file[-2]\n",
    "    output = json_file[-1] \n",
    "    \n",
    "    sentence = []\n",
    "    temp = json_file[:][0]\n",
    "    for t in temp:\n",
    "        sentence.append(t[-1])\n",
    "    \n",
    "    \n",
    "    return sentence # zip(sentence, answer, output)"
   ]
  },
  {
   "cell_type": "code",
   "execution_count": 3,
   "metadata": {},
   "outputs": [],
   "source": [
    "PATH = [\n",
    "            \"./results/multi_sentence_result.json\",\n",
    "            \"./results/disconnected_multi_sentence_result.json\",\n",
    "            \"./results/tree_multi_sentence_result.json\"\n",
    "        ]"
   ]
  },
  {
   "cell_type": "code",
   "execution_count": 5,
   "metadata": {
    "scrolled": true
   },
   "outputs": [
    {
     "name": "stdout",
     "output_type": "stream",
     "text": [
      "Getting data length from ./results/multi_sentence_result.json\n"
     ]
    },
    {
     "data": {
      "text/plain": [
       "185"
      ]
     },
     "execution_count": 5,
     "metadata": {},
     "output_type": "execute_result"
    }
   ],
   "source": [
    "temp = load_data(PATH[0])\n",
    "len(temp)"
   ]
  },
  {
   "cell_type": "code",
   "execution_count": null,
   "metadata": {},
   "outputs": [],
   "source": []
  }
 ],
 "metadata": {
  "kernelspec": {
   "display_name": "Python 3",
   "language": "python",
   "name": "python3"
  },
  "language_info": {
   "codemirror_mode": {
    "name": "ipython",
    "version": 3
   },
   "file_extension": ".py",
   "mimetype": "text/x-python",
   "name": "python",
   "nbconvert_exporter": "python",
   "pygments_lexer": "ipython3",
   "version": "3.6.8"
  }
 },
 "nbformat": 4,
 "nbformat_minor": 2
}
